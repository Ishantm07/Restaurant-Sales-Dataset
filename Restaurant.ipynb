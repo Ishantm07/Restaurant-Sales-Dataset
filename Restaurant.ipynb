{
 "cells": [
  {
   "cell_type": "markdown",
   "id": "41d0d329-f1f8-43e8-8d81-a90430f9ec1f",
   "metadata": {},
   "source": [
    "# Sales Data Analysis"
   ]
  },
  {
   "cell_type": "markdown",
   "id": "551a6b3d-db1a-43ab-b2cc-5e582a6ffa2c",
   "metadata": {},
   "source": [
    "## Restaurant Sales Dataset"
   ]
  },
  {
   "cell_type": "code",
   "execution_count": 1,
   "id": "b80f4478-f60a-45bc-bb69-d7e84274bdb1",
   "metadata": {},
   "outputs": [
    {
     "name": "stdout",
     "output_type": "stream",
     "text": [
      "Requirement already satisfied: numpy in c:\\users\\dspar\\anaconda3\\lib\\site-packages (1.26.4)\n",
      "Requirement already satisfied: pandas in c:\\users\\dspar\\anaconda3\\lib\\site-packages (2.2.2)\n",
      "Requirement already satisfied: seaborn in c:\\users\\dspar\\anaconda3\\lib\\site-packages (0.13.2)\n",
      "Requirement already satisfied: matplotlib in c:\\users\\dspar\\anaconda3\\lib\\site-packages (3.9.2)\n",
      "Requirement already satisfied: python-dateutil>=2.8.2 in c:\\users\\dspar\\anaconda3\\lib\\site-packages (from pandas) (2.9.0.post0)\n",
      "Requirement already satisfied: pytz>=2020.1 in c:\\users\\dspar\\anaconda3\\lib\\site-packages (from pandas) (2024.1)\n",
      "Requirement already satisfied: tzdata>=2022.7 in c:\\users\\dspar\\anaconda3\\lib\\site-packages (from pandas) (2023.3)\n",
      "Requirement already satisfied: contourpy>=1.0.1 in c:\\users\\dspar\\anaconda3\\lib\\site-packages (from matplotlib) (1.2.0)\n",
      "Requirement already satisfied: cycler>=0.10 in c:\\users\\dspar\\anaconda3\\lib\\site-packages (from matplotlib) (0.11.0)\n",
      "Requirement already satisfied: fonttools>=4.22.0 in c:\\users\\dspar\\anaconda3\\lib\\site-packages (from matplotlib) (4.51.0)\n",
      "Requirement already satisfied: kiwisolver>=1.3.1 in c:\\users\\dspar\\anaconda3\\lib\\site-packages (from matplotlib) (1.4.4)\n",
      "Requirement already satisfied: packaging>=20.0 in c:\\users\\dspar\\anaconda3\\lib\\site-packages (from matplotlib) (24.1)\n",
      "Requirement already satisfied: pillow>=8 in c:\\users\\dspar\\anaconda3\\lib\\site-packages (from matplotlib) (10.4.0)\n",
      "Requirement already satisfied: pyparsing>=2.3.1 in c:\\users\\dspar\\anaconda3\\lib\\site-packages (from matplotlib) (3.1.2)\n",
      "Requirement already satisfied: six>=1.5 in c:\\users\\dspar\\anaconda3\\lib\\site-packages (from python-dateutil>=2.8.2->pandas) (1.16.0)\n",
      "Note: you may need to restart the kernel to use updated packages.\n"
     ]
    }
   ],
   "source": [
    "pip install numpy pandas seaborn matplotlib"
   ]
  },
  {
   "cell_type": "code",
   "execution_count": 3,
   "id": "d73d804d-bc85-4b8e-84ad-e28988a8bfdd",
   "metadata": {},
   "outputs": [],
   "source": [
    "import numpy as np\n",
    "import pandas as pd\n",
    "import matplotlib.pyplot as plt\n",
    "%matplotlib inline\n",
    "import seaborn as sns"
   ]
  },
  {
   "cell_type": "code",
   "execution_count": 7,
   "id": "10bb4031-6174-410c-ad11-e3c675985b6c",
   "metadata": {},
   "outputs": [],
   "source": [
    "df  = pd.read_excel(r\"C:\\Users\\dspar\\Downloads\\file.xlsx\")"
   ]
  },
  {
   "cell_type": "code",
   "execution_count": 9,
   "id": "9d017758-df52-4f01-8932-75b4b4eb281d",
   "metadata": {},
   "outputs": [
    {
     "data": {
      "text/plain": [
       "(255, 10)"
      ]
     },
     "execution_count": 9,
     "metadata": {},
     "output_type": "execute_result"
    }
   ],
   "source": [
    "df.shape"
   ]
  },
  {
   "cell_type": "code",
   "execution_count": 11,
   "id": "26622647-f26b-46ea-97ea-e13054817061",
   "metadata": {},
   "outputs": [
    {
     "data": {
      "text/html": [
       "<div>\n",
       "<style scoped>\n",
       "    .dataframe tbody tr th:only-of-type {\n",
       "        vertical-align: middle;\n",
       "    }\n",
       "\n",
       "    .dataframe tbody tr th {\n",
       "        vertical-align: top;\n",
       "    }\n",
       "\n",
       "    .dataframe thead th {\n",
       "        text-align: right;\n",
       "    }\n",
       "</style>\n",
       "<table border=\"1\" class=\"dataframe\">\n",
       "  <thead>\n",
       "    <tr style=\"text-align: right;\">\n",
       "      <th></th>\n",
       "      <th>Unnamed: 0</th>\n",
       "      <th>Unnamed: 1</th>\n",
       "      <th>Unnamed: 2</th>\n",
       "      <th>Unnamed: 3</th>\n",
       "      <th>Unnamed: 4</th>\n",
       "      <th>Unnamed: 5</th>\n",
       "      <th>Unnamed: 6</th>\n",
       "      <th>Unnamed: 7</th>\n",
       "      <th>Unnamed: 8</th>\n",
       "      <th>Unnamed: 9</th>\n",
       "    </tr>\n",
       "  </thead>\n",
       "  <tbody>\n",
       "    <tr>\n",
       "      <th>0</th>\n",
       "      <td>NaN</td>\n",
       "      <td>Order ID</td>\n",
       "      <td>Date</td>\n",
       "      <td>Product</td>\n",
       "      <td>Price</td>\n",
       "      <td>Quantity</td>\n",
       "      <td>Purchase Type</td>\n",
       "      <td>Payment Method</td>\n",
       "      <td>Manager</td>\n",
       "      <td>City</td>\n",
       "    </tr>\n",
       "    <tr>\n",
       "      <th>1</th>\n",
       "      <td>NaN</td>\n",
       "      <td>10452</td>\n",
       "      <td>2022-11-07 00:00:00</td>\n",
       "      <td>Fries</td>\n",
       "      <td>3.49</td>\n",
       "      <td>573.065903</td>\n",
       "      <td>Online</td>\n",
       "      <td>Gift Card</td>\n",
       "      <td>Tom      Jackson</td>\n",
       "      <td>London</td>\n",
       "    </tr>\n",
       "    <tr>\n",
       "      <th>2</th>\n",
       "      <td>NaN</td>\n",
       "      <td>10453</td>\n",
       "      <td>2022-11-07 00:00:00</td>\n",
       "      <td>Beverages</td>\n",
       "      <td>2.95</td>\n",
       "      <td>745.762712</td>\n",
       "      <td>Online</td>\n",
       "      <td>Gift Card</td>\n",
       "      <td>Pablo Perez</td>\n",
       "      <td>Madrid</td>\n",
       "    </tr>\n",
       "    <tr>\n",
       "      <th>3</th>\n",
       "      <td>NaN</td>\n",
       "      <td>10454</td>\n",
       "      <td>2022-11-07 00:00:00</td>\n",
       "      <td>Sides &amp; Other</td>\n",
       "      <td>4.99</td>\n",
       "      <td>200.400802</td>\n",
       "      <td>In-store</td>\n",
       "      <td>Gift Card</td>\n",
       "      <td>Joao    Silva</td>\n",
       "      <td>Lisbon</td>\n",
       "    </tr>\n",
       "  </tbody>\n",
       "</table>\n",
       "</div>"
      ],
      "text/plain": [
       "   Unnamed: 0 Unnamed: 1           Unnamed: 2     Unnamed: 3 Unnamed: 4  \\\n",
       "0         NaN   Order ID                 Date        Product      Price   \n",
       "1         NaN      10452  2022-11-07 00:00:00          Fries       3.49   \n",
       "2         NaN      10453  2022-11-07 00:00:00      Beverages       2.95   \n",
       "3         NaN      10454  2022-11-07 00:00:00  Sides & Other       4.99   \n",
       "\n",
       "   Unnamed: 5     Unnamed: 6      Unnamed: 7          Unnamed: 8 Unnamed: 9  \n",
       "0    Quantity  Purchase Type  Payment Method             Manager       City  \n",
       "1  573.065903        Online        Gift Card    Tom      Jackson     London  \n",
       "2  745.762712        Online        Gift Card         Pablo Perez     Madrid  \n",
       "3  200.400802      In-store        Gift Card       Joao    Silva     Lisbon  "
      ]
     },
     "execution_count": 11,
     "metadata": {},
     "output_type": "execute_result"
    }
   ],
   "source": [
    "df.head(4)"
   ]
  },
  {
   "cell_type": "code",
   "execution_count": 13,
   "id": "07308cf2-9e9f-47dd-9b1e-febf005e4e96",
   "metadata": {},
   "outputs": [
    {
     "name": "stdout",
     "output_type": "stream",
     "text": [
      "<class 'pandas.core.frame.DataFrame'>\n",
      "RangeIndex: 255 entries, 0 to 254\n",
      "Data columns (total 10 columns):\n",
      " #   Column      Non-Null Count  Dtype  \n",
      "---  ------      --------------  -----  \n",
      " 0   Unnamed: 0  0 non-null      float64\n",
      " 1   Unnamed: 1  255 non-null    object \n",
      " 2   Unnamed: 2  255 non-null    object \n",
      " 3   Unnamed: 3  255 non-null    object \n",
      " 4   Unnamed: 4  255 non-null    object \n",
      " 5   Unnamed: 5  255 non-null    object \n",
      " 6   Unnamed: 6  255 non-null    object \n",
      " 7   Unnamed: 7  255 non-null    object \n",
      " 8   Unnamed: 8  255 non-null    object \n",
      " 9   Unnamed: 9  255 non-null    object \n",
      "dtypes: float64(1), object(9)\n",
      "memory usage: 20.1+ KB\n"
     ]
    }
   ],
   "source": [
    "df.info()"
   ]
  },
  {
   "cell_type": "markdown",
   "id": "a8534c2d-48ac-4a86-a92b-e1165ea3da52",
   "metadata": {},
   "source": [
    "### Droping unwamted column"
   ]
  },
  {
   "cell_type": "code",
   "execution_count": 16,
   "id": "37a47658-7f31-428c-bf70-f3798520681a",
   "metadata": {},
   "outputs": [],
   "source": [
    "df.drop(columns='Unnamed: 0',inplace = True)"
   ]
  },
  {
   "cell_type": "code",
   "execution_count": 18,
   "id": "86ec5265-f5e2-46e2-b6e8-2d7c577a05ba",
   "metadata": {},
   "outputs": [
    {
     "name": "stdout",
     "output_type": "stream",
     "text": [
      "<class 'pandas.core.frame.DataFrame'>\n",
      "RangeIndex: 255 entries, 0 to 254\n",
      "Data columns (total 9 columns):\n",
      " #   Column      Non-Null Count  Dtype \n",
      "---  ------      --------------  ----- \n",
      " 0   Unnamed: 1  255 non-null    object\n",
      " 1   Unnamed: 2  255 non-null    object\n",
      " 2   Unnamed: 3  255 non-null    object\n",
      " 3   Unnamed: 4  255 non-null    object\n",
      " 4   Unnamed: 5  255 non-null    object\n",
      " 5   Unnamed: 6  255 non-null    object\n",
      " 6   Unnamed: 7  255 non-null    object\n",
      " 7   Unnamed: 8  255 non-null    object\n",
      " 8   Unnamed: 9  255 non-null    object\n",
      "dtypes: object(9)\n",
      "memory usage: 18.1+ KB\n"
     ]
    }
   ],
   "source": [
    "df.info()"
   ]
  },
  {
   "cell_type": "markdown",
   "id": "2662e7c1-f817-4f2c-86c7-e26838303767",
   "metadata": {},
   "source": [
    "#### Changing Columns Names"
   ]
  },
  {
   "cell_type": "code",
   "execution_count": 25,
   "id": "e43ec8d3-be0c-43a3-ae91-8b2d5b4e38b3",
   "metadata": {},
   "outputs": [
    {
     "data": {
      "text/plain": [
       "Unnamed: 1          Order ID\n",
       "Unnamed: 2              Date\n",
       "Unnamed: 3           Product\n",
       "Unnamed: 4             Price\n",
       "Unnamed: 5          Quantity\n",
       "Unnamed: 6     Purchase Type\n",
       "Unnamed: 7    Payment Method\n",
       "Unnamed: 8           Manager\n",
       "Unnamed: 9              City\n",
       "Name: 0, dtype: object"
      ]
     },
     "execution_count": 25,
     "metadata": {},
     "output_type": "execute_result"
    }
   ],
   "source": [
    "df.loc[0]"
   ]
  },
  {
   "cell_type": "code",
   "execution_count": 33,
   "id": "4f9f273b-7ce5-47b8-a59a-cdd4e7240673",
   "metadata": {},
   "outputs": [],
   "source": [
    "df.columns = df.loc[0]"
   ]
  },
  {
   "cell_type": "code",
   "execution_count": 35,
   "id": "2481f10e-3db0-46f1-82a0-73f9a5e3c382",
   "metadata": {},
   "outputs": [
    {
     "data": {
      "text/html": [
       "<div>\n",
       "<style scoped>\n",
       "    .dataframe tbody tr th:only-of-type {\n",
       "        vertical-align: middle;\n",
       "    }\n",
       "\n",
       "    .dataframe tbody tr th {\n",
       "        vertical-align: top;\n",
       "    }\n",
       "\n",
       "    .dataframe thead th {\n",
       "        text-align: right;\n",
       "    }\n",
       "</style>\n",
       "<table border=\"1\" class=\"dataframe\">\n",
       "  <thead>\n",
       "    <tr style=\"text-align: right;\">\n",
       "      <th></th>\n",
       "      <th>Order ID</th>\n",
       "      <th>Date</th>\n",
       "      <th>Product</th>\n",
       "      <th>Price</th>\n",
       "      <th>Quantity</th>\n",
       "      <th>Purchase Type</th>\n",
       "      <th>Payment Method</th>\n",
       "      <th>Manager</th>\n",
       "      <th>City</th>\n",
       "    </tr>\n",
       "  </thead>\n",
       "  <tbody>\n",
       "    <tr>\n",
       "      <th>0</th>\n",
       "      <td>Order ID</td>\n",
       "      <td>Date</td>\n",
       "      <td>Product</td>\n",
       "      <td>Price</td>\n",
       "      <td>Quantity</td>\n",
       "      <td>Purchase Type</td>\n",
       "      <td>Payment Method</td>\n",
       "      <td>Manager</td>\n",
       "      <td>City</td>\n",
       "    </tr>\n",
       "    <tr>\n",
       "      <th>1</th>\n",
       "      <td>10452</td>\n",
       "      <td>2022-11-07 00:00:00</td>\n",
       "      <td>Fries</td>\n",
       "      <td>3.49</td>\n",
       "      <td>573.065903</td>\n",
       "      <td>Online</td>\n",
       "      <td>Gift Card</td>\n",
       "      <td>Tom      Jackson</td>\n",
       "      <td>London</td>\n",
       "    </tr>\n",
       "    <tr>\n",
       "      <th>2</th>\n",
       "      <td>10453</td>\n",
       "      <td>2022-11-07 00:00:00</td>\n",
       "      <td>Beverages</td>\n",
       "      <td>2.95</td>\n",
       "      <td>745.762712</td>\n",
       "      <td>Online</td>\n",
       "      <td>Gift Card</td>\n",
       "      <td>Pablo Perez</td>\n",
       "      <td>Madrid</td>\n",
       "    </tr>\n",
       "    <tr>\n",
       "      <th>3</th>\n",
       "      <td>10454</td>\n",
       "      <td>2022-11-07 00:00:00</td>\n",
       "      <td>Sides &amp; Other</td>\n",
       "      <td>4.99</td>\n",
       "      <td>200.400802</td>\n",
       "      <td>In-store</td>\n",
       "      <td>Gift Card</td>\n",
       "      <td>Joao    Silva</td>\n",
       "      <td>Lisbon</td>\n",
       "    </tr>\n",
       "  </tbody>\n",
       "</table>\n",
       "</div>"
      ],
      "text/plain": [
       "0  Order ID                 Date        Product  Price    Quantity  \\\n",
       "0  Order ID                 Date        Product  Price    Quantity   \n",
       "1     10452  2022-11-07 00:00:00          Fries   3.49  573.065903   \n",
       "2     10453  2022-11-07 00:00:00      Beverages   2.95  745.762712   \n",
       "3     10454  2022-11-07 00:00:00  Sides & Other   4.99  200.400802   \n",
       "\n",
       "0  Purchase Type  Payment Method             Manager    City  \n",
       "0  Purchase Type  Payment Method             Manager    City  \n",
       "1        Online        Gift Card    Tom      Jackson  London  \n",
       "2        Online        Gift Card         Pablo Perez  Madrid  \n",
       "3      In-store        Gift Card       Joao    Silva  Lisbon  "
      ]
     },
     "execution_count": 35,
     "metadata": {},
     "output_type": "execute_result"
    }
   ],
   "source": [
    "df.head(4)"
   ]
  },
  {
   "cell_type": "code",
   "execution_count": 39,
   "id": "8a25a1e4-5a68-4693-9c1a-6f2bb5b342b4",
   "metadata": {},
   "outputs": [],
   "source": [
    "df.drop(0,inplace = True)"
   ]
  },
  {
   "cell_type": "code",
   "execution_count": 41,
   "id": "36beddc0-cb2c-4860-a66e-60762eede32d",
   "metadata": {},
   "outputs": [
    {
     "data": {
      "text/html": [
       "<div>\n",
       "<style scoped>\n",
       "    .dataframe tbody tr th:only-of-type {\n",
       "        vertical-align: middle;\n",
       "    }\n",
       "\n",
       "    .dataframe tbody tr th {\n",
       "        vertical-align: top;\n",
       "    }\n",
       "\n",
       "    .dataframe thead th {\n",
       "        text-align: right;\n",
       "    }\n",
       "</style>\n",
       "<table border=\"1\" class=\"dataframe\">\n",
       "  <thead>\n",
       "    <tr style=\"text-align: right;\">\n",
       "      <th></th>\n",
       "      <th>Order ID</th>\n",
       "      <th>Date</th>\n",
       "      <th>Product</th>\n",
       "      <th>Price</th>\n",
       "      <th>Quantity</th>\n",
       "      <th>Purchase Type</th>\n",
       "      <th>Payment Method</th>\n",
       "      <th>Manager</th>\n",
       "      <th>City</th>\n",
       "    </tr>\n",
       "  </thead>\n",
       "  <tbody>\n",
       "    <tr>\n",
       "      <th>1</th>\n",
       "      <td>10452</td>\n",
       "      <td>2022-11-07 00:00:00</td>\n",
       "      <td>Fries</td>\n",
       "      <td>3.49</td>\n",
       "      <td>573.065903</td>\n",
       "      <td>Online</td>\n",
       "      <td>Gift Card</td>\n",
       "      <td>Tom      Jackson</td>\n",
       "      <td>London</td>\n",
       "    </tr>\n",
       "    <tr>\n",
       "      <th>2</th>\n",
       "      <td>10453</td>\n",
       "      <td>2022-11-07 00:00:00</td>\n",
       "      <td>Beverages</td>\n",
       "      <td>2.95</td>\n",
       "      <td>745.762712</td>\n",
       "      <td>Online</td>\n",
       "      <td>Gift Card</td>\n",
       "      <td>Pablo Perez</td>\n",
       "      <td>Madrid</td>\n",
       "    </tr>\n",
       "    <tr>\n",
       "      <th>3</th>\n",
       "      <td>10454</td>\n",
       "      <td>2022-11-07 00:00:00</td>\n",
       "      <td>Sides &amp; Other</td>\n",
       "      <td>4.99</td>\n",
       "      <td>200.400802</td>\n",
       "      <td>In-store</td>\n",
       "      <td>Gift Card</td>\n",
       "      <td>Joao    Silva</td>\n",
       "      <td>Lisbon</td>\n",
       "    </tr>\n",
       "    <tr>\n",
       "      <th>4</th>\n",
       "      <td>10455</td>\n",
       "      <td>2022-11-08 00:00:00</td>\n",
       "      <td>Burgers</td>\n",
       "      <td>12.99</td>\n",
       "      <td>569.668976</td>\n",
       "      <td>In-store</td>\n",
       "      <td>Credit Card</td>\n",
       "      <td>Walter Muller</td>\n",
       "      <td>Berlin</td>\n",
       "    </tr>\n",
       "  </tbody>\n",
       "</table>\n",
       "</div>"
      ],
      "text/plain": [
       "0 Order ID                 Date        Product  Price    Quantity  \\\n",
       "1    10452  2022-11-07 00:00:00          Fries   3.49  573.065903   \n",
       "2    10453  2022-11-07 00:00:00      Beverages   2.95  745.762712   \n",
       "3    10454  2022-11-07 00:00:00  Sides & Other   4.99  200.400802   \n",
       "4    10455  2022-11-08 00:00:00        Burgers  12.99  569.668976   \n",
       "\n",
       "0 Purchase Type Payment Method             Manager    City  \n",
       "1       Online       Gift Card    Tom      Jackson  London  \n",
       "2       Online       Gift Card         Pablo Perez  Madrid  \n",
       "3     In-store       Gift Card       Joao    Silva  Lisbon  \n",
       "4     In-store     Credit Card       Walter Muller  Berlin  "
      ]
     },
     "execution_count": 41,
     "metadata": {},
     "output_type": "execute_result"
    }
   ],
   "source": [
    "df.head(4)"
   ]
  },
  {
   "cell_type": "code",
   "execution_count": 43,
   "id": "66897731-822c-4c72-bbf2-e93d7dce1778",
   "metadata": {},
   "outputs": [
    {
     "name": "stdout",
     "output_type": "stream",
     "text": [
      "<class 'pandas.core.frame.DataFrame'>\n",
      "RangeIndex: 254 entries, 1 to 254\n",
      "Data columns (total 9 columns):\n",
      " #   Column          Non-Null Count  Dtype \n",
      "---  ------          --------------  ----- \n",
      " 0   Order ID        254 non-null    object\n",
      " 1   Date            254 non-null    object\n",
      " 2   Product         254 non-null    object\n",
      " 3   Price           254 non-null    object\n",
      " 4   Quantity        254 non-null    object\n",
      " 5   Purchase Type   254 non-null    object\n",
      " 6   Payment Method  254 non-null    object\n",
      " 7   Manager         254 non-null    object\n",
      " 8   City            254 non-null    object\n",
      "dtypes: object(9)\n",
      "memory usage: 18.0+ KB\n"
     ]
    }
   ],
   "source": [
    "df.info()"
   ]
  },
  {
   "cell_type": "markdown",
   "id": "2707de0d-c69e-45ea-bebe-72bcc3039f9c",
   "metadata": {},
   "source": [
    "#### Consider the Manager Columns"
   ]
  },
  {
   "cell_type": "code",
   "execution_count": 48,
   "id": "7032da98-a4e7-43a0-aa0c-23747b8956a1",
   "metadata": {},
   "outputs": [
    {
     "data": {
      "text/html": [
       "<div>\n",
       "<style scoped>\n",
       "    .dataframe tbody tr th:only-of-type {\n",
       "        vertical-align: middle;\n",
       "    }\n",
       "\n",
       "    .dataframe tbody tr th {\n",
       "        vertical-align: top;\n",
       "    }\n",
       "\n",
       "    .dataframe thead th {\n",
       "        text-align: right;\n",
       "    }\n",
       "</style>\n",
       "<table border=\"1\" class=\"dataframe\">\n",
       "  <thead>\n",
       "    <tr style=\"text-align: right;\">\n",
       "      <th></th>\n",
       "      <th>Order ID</th>\n",
       "      <th>Date</th>\n",
       "      <th>Product</th>\n",
       "      <th>Price</th>\n",
       "      <th>Quantity</th>\n",
       "      <th>Purchase Type</th>\n",
       "      <th>Payment Method</th>\n",
       "      <th>Manager</th>\n",
       "      <th>City</th>\n",
       "    </tr>\n",
       "  </thead>\n",
       "  <tbody>\n",
       "    <tr>\n",
       "      <th>1</th>\n",
       "      <td>10452</td>\n",
       "      <td>2022-11-07 00:00:00</td>\n",
       "      <td>Fries</td>\n",
       "      <td>3.49</td>\n",
       "      <td>573.065903</td>\n",
       "      <td>Online</td>\n",
       "      <td>Gift Card</td>\n",
       "      <td>Tom      Jackson</td>\n",
       "      <td>London</td>\n",
       "    </tr>\n",
       "    <tr>\n",
       "      <th>2</th>\n",
       "      <td>10453</td>\n",
       "      <td>2022-11-07 00:00:00</td>\n",
       "      <td>Beverages</td>\n",
       "      <td>2.95</td>\n",
       "      <td>745.762712</td>\n",
       "      <td>Online</td>\n",
       "      <td>Gift Card</td>\n",
       "      <td>Pablo Perez</td>\n",
       "      <td>Madrid</td>\n",
       "    </tr>\n",
       "    <tr>\n",
       "      <th>3</th>\n",
       "      <td>10454</td>\n",
       "      <td>2022-11-07 00:00:00</td>\n",
       "      <td>Sides &amp; Other</td>\n",
       "      <td>4.99</td>\n",
       "      <td>200.400802</td>\n",
       "      <td>In-store</td>\n",
       "      <td>Gift Card</td>\n",
       "      <td>Joao    Silva</td>\n",
       "      <td>Lisbon</td>\n",
       "    </tr>\n",
       "    <tr>\n",
       "      <th>4</th>\n",
       "      <td>10455</td>\n",
       "      <td>2022-11-08 00:00:00</td>\n",
       "      <td>Burgers</td>\n",
       "      <td>12.99</td>\n",
       "      <td>569.668976</td>\n",
       "      <td>In-store</td>\n",
       "      <td>Credit Card</td>\n",
       "      <td>Walter Muller</td>\n",
       "      <td>Berlin</td>\n",
       "    </tr>\n",
       "    <tr>\n",
       "      <th>5</th>\n",
       "      <td>10456</td>\n",
       "      <td>2022-11-08 00:00:00</td>\n",
       "      <td>Chicken Sandwiches</td>\n",
       "      <td>9.95</td>\n",
       "      <td>201.005025</td>\n",
       "      <td>In-store</td>\n",
       "      <td>Credit Card</td>\n",
       "      <td>Walter Muller</td>\n",
       "      <td>Berlin</td>\n",
       "    </tr>\n",
       "  </tbody>\n",
       "</table>\n",
       "</div>"
      ],
      "text/plain": [
       "0 Order ID                 Date             Product  Price    Quantity  \\\n",
       "1    10452  2022-11-07 00:00:00               Fries   3.49  573.065903   \n",
       "2    10453  2022-11-07 00:00:00           Beverages   2.95  745.762712   \n",
       "3    10454  2022-11-07 00:00:00       Sides & Other   4.99  200.400802   \n",
       "4    10455  2022-11-08 00:00:00             Burgers  12.99  569.668976   \n",
       "5    10456  2022-11-08 00:00:00  Chicken Sandwiches   9.95  201.005025   \n",
       "\n",
       "0 Purchase Type Payment Method             Manager    City  \n",
       "1       Online       Gift Card    Tom      Jackson  London  \n",
       "2       Online       Gift Card         Pablo Perez  Madrid  \n",
       "3     In-store       Gift Card       Joao    Silva  Lisbon  \n",
       "4     In-store     Credit Card       Walter Muller  Berlin  \n",
       "5     In-store     Credit Card       Walter Muller  Berlin  "
      ]
     },
     "execution_count": 48,
     "metadata": {},
     "output_type": "execute_result"
    }
   ],
   "source": [
    "df.head()"
   ]
  },
  {
   "cell_type": "code",
   "execution_count": 50,
   "id": "e38e9fc8-a2bb-47e3-b3a6-4e2b2bb53730",
   "metadata": {},
   "outputs": [
    {
     "data": {
      "text/plain": [
       "1        Tom      Jackson\n",
       "2             Pablo Perez\n",
       "3           Joao    Silva\n",
       "4           Walter Muller\n",
       "5           Walter Muller\n",
       "              ...        \n",
       "250         Walter Muller\n",
       "251         Walter Muller\n",
       "252         Walter Muller\n",
       "253         Walter Muller\n",
       "254         Walter Muller\n",
       "Name: Manager, Length: 254, dtype: object"
      ]
     },
     "execution_count": 50,
     "metadata": {},
     "output_type": "execute_result"
    }
   ],
   "source": [
    "df.Manager"
   ]
  },
  {
   "cell_type": "code",
   "execution_count": 54,
   "id": "30c7d00a-db13-47c8-9375-5092c1d0bf12",
   "metadata": {},
   "outputs": [
    {
     "data": {
      "text/plain": [
       "array(['Tom      Jackson', '       Pablo Perez', 'Joao    Silva',\n",
       "       'Walter Muller', 'Remy    Monet', 'Remy Monet',\n",
       "       '       Remy Monet', 'Remy     Monet', 'Pablo Perez',\n",
       "       'Pablo   Perez', 'Pablo  Perez', 'Pablo    Perez', 'Joao Silva',\n",
       "       'Tom Jackson'], dtype=object)"
      ]
     },
     "execution_count": 54,
     "metadata": {},
     "output_type": "execute_result"
    }
   ],
   "source": [
    "df.Manager.unique()"
   ]
  },
  {
   "cell_type": "code",
   "execution_count": 56,
   "id": "3376499f-a3b4-46d6-a592-5b1a2d610131",
   "metadata": {},
   "outputs": [
    {
     "data": {
      "text/plain": [
       "14"
      ]
     },
     "execution_count": 56,
     "metadata": {},
     "output_type": "execute_result"
    }
   ],
   "source": [
    "df.Manager.nunique()"
   ]
  },
  {
   "cell_type": "code",
   "execution_count": 60,
   "id": "e33162f7-fef8-4a2e-a024-0fb0ed84e55d",
   "metadata": {},
   "outputs": [],
   "source": [
    "df['Manager']=df['Manager'].str.strip().str.replace(r'\\s+',' ',regex = True)"
   ]
  },
  {
   "cell_type": "code",
   "execution_count": 62,
   "id": "5ec8d2fb-0417-4901-9aa5-5e9c0a2ab49c",
   "metadata": {},
   "outputs": [
    {
     "data": {
      "text/html": [
       "<div>\n",
       "<style scoped>\n",
       "    .dataframe tbody tr th:only-of-type {\n",
       "        vertical-align: middle;\n",
       "    }\n",
       "\n",
       "    .dataframe tbody tr th {\n",
       "        vertical-align: top;\n",
       "    }\n",
       "\n",
       "    .dataframe thead th {\n",
       "        text-align: right;\n",
       "    }\n",
       "</style>\n",
       "<table border=\"1\" class=\"dataframe\">\n",
       "  <thead>\n",
       "    <tr style=\"text-align: right;\">\n",
       "      <th></th>\n",
       "      <th>Order ID</th>\n",
       "      <th>Date</th>\n",
       "      <th>Product</th>\n",
       "      <th>Price</th>\n",
       "      <th>Quantity</th>\n",
       "      <th>Purchase Type</th>\n",
       "      <th>Payment Method</th>\n",
       "      <th>Manager</th>\n",
       "      <th>City</th>\n",
       "    </tr>\n",
       "  </thead>\n",
       "  <tbody>\n",
       "    <tr>\n",
       "      <th>1</th>\n",
       "      <td>10452</td>\n",
       "      <td>2022-11-07 00:00:00</td>\n",
       "      <td>Fries</td>\n",
       "      <td>3.49</td>\n",
       "      <td>573.065903</td>\n",
       "      <td>Online</td>\n",
       "      <td>Gift Card</td>\n",
       "      <td>Tom Jackson</td>\n",
       "      <td>London</td>\n",
       "    </tr>\n",
       "    <tr>\n",
       "      <th>2</th>\n",
       "      <td>10453</td>\n",
       "      <td>2022-11-07 00:00:00</td>\n",
       "      <td>Beverages</td>\n",
       "      <td>2.95</td>\n",
       "      <td>745.762712</td>\n",
       "      <td>Online</td>\n",
       "      <td>Gift Card</td>\n",
       "      <td>Pablo Perez</td>\n",
       "      <td>Madrid</td>\n",
       "    </tr>\n",
       "    <tr>\n",
       "      <th>3</th>\n",
       "      <td>10454</td>\n",
       "      <td>2022-11-07 00:00:00</td>\n",
       "      <td>Sides &amp; Other</td>\n",
       "      <td>4.99</td>\n",
       "      <td>200.400802</td>\n",
       "      <td>In-store</td>\n",
       "      <td>Gift Card</td>\n",
       "      <td>Joao Silva</td>\n",
       "      <td>Lisbon</td>\n",
       "    </tr>\n",
       "    <tr>\n",
       "      <th>4</th>\n",
       "      <td>10455</td>\n",
       "      <td>2022-11-08 00:00:00</td>\n",
       "      <td>Burgers</td>\n",
       "      <td>12.99</td>\n",
       "      <td>569.668976</td>\n",
       "      <td>In-store</td>\n",
       "      <td>Credit Card</td>\n",
       "      <td>Walter Muller</td>\n",
       "      <td>Berlin</td>\n",
       "    </tr>\n",
       "    <tr>\n",
       "      <th>5</th>\n",
       "      <td>10456</td>\n",
       "      <td>2022-11-08 00:00:00</td>\n",
       "      <td>Chicken Sandwiches</td>\n",
       "      <td>9.95</td>\n",
       "      <td>201.005025</td>\n",
       "      <td>In-store</td>\n",
       "      <td>Credit Card</td>\n",
       "      <td>Walter Muller</td>\n",
       "      <td>Berlin</td>\n",
       "    </tr>\n",
       "  </tbody>\n",
       "</table>\n",
       "</div>"
      ],
      "text/plain": [
       "0 Order ID                 Date             Product  Price    Quantity  \\\n",
       "1    10452  2022-11-07 00:00:00               Fries   3.49  573.065903   \n",
       "2    10453  2022-11-07 00:00:00           Beverages   2.95  745.762712   \n",
       "3    10454  2022-11-07 00:00:00       Sides & Other   4.99  200.400802   \n",
       "4    10455  2022-11-08 00:00:00             Burgers  12.99  569.668976   \n",
       "5    10456  2022-11-08 00:00:00  Chicken Sandwiches   9.95  201.005025   \n",
       "\n",
       "0 Purchase Type Payment Method        Manager    City  \n",
       "1       Online       Gift Card    Tom Jackson  London  \n",
       "2       Online       Gift Card    Pablo Perez  Madrid  \n",
       "3     In-store       Gift Card     Joao Silva  Lisbon  \n",
       "4     In-store     Credit Card  Walter Muller  Berlin  \n",
       "5     In-store     Credit Card  Walter Muller  Berlin  "
      ]
     },
     "execution_count": 62,
     "metadata": {},
     "output_type": "execute_result"
    }
   ],
   "source": [
    "df.head()"
   ]
  },
  {
   "cell_type": "code",
   "execution_count": 68,
   "id": "eb577fb7-96e6-4f8a-b118-87c0f9481453",
   "metadata": {},
   "outputs": [
    {
     "data": {
      "text/plain": [
       "5"
      ]
     },
     "execution_count": 68,
     "metadata": {},
     "output_type": "execute_result"
    }
   ],
   "source": [
    "df.Manager.nunique()"
   ]
  },
  {
   "cell_type": "code",
   "execution_count": 72,
   "id": "57b48dbb-3784-45ed-bef1-020ec2b4b0ce",
   "metadata": {},
   "outputs": [
    {
     "data": {
      "text/plain": [
       "array(['Tom Jackson', 'Pablo Perez', 'Joao Silva', 'Walter Muller',\n",
       "       'Remy Monet'], dtype=object)"
      ]
     },
     "execution_count": 72,
     "metadata": {},
     "output_type": "execute_result"
    }
   ],
   "source": [
    "df.Manager.unique()"
   ]
  },
  {
   "cell_type": "markdown",
   "id": "b28f7fb0-b0c7-4ad8-bdfa-44078eb3c255",
   "metadata": {},
   "source": [
    "#### Removing duplicate values"
   ]
  },
  {
   "cell_type": "code",
   "execution_count": 75,
   "id": "ae00139e-e1af-4262-ad53-2567601a8961",
   "metadata": {},
   "outputs": [
    {
     "data": {
      "text/html": [
       "<div>\n",
       "<style scoped>\n",
       "    .dataframe tbody tr th:only-of-type {\n",
       "        vertical-align: middle;\n",
       "    }\n",
       "\n",
       "    .dataframe tbody tr th {\n",
       "        vertical-align: top;\n",
       "    }\n",
       "\n",
       "    .dataframe thead th {\n",
       "        text-align: right;\n",
       "    }\n",
       "</style>\n",
       "<table border=\"1\" class=\"dataframe\">\n",
       "  <thead>\n",
       "    <tr style=\"text-align: right;\">\n",
       "      <th></th>\n",
       "      <th>Order ID</th>\n",
       "      <th>Date</th>\n",
       "      <th>Product</th>\n",
       "      <th>Price</th>\n",
       "      <th>Quantity</th>\n",
       "      <th>Purchase Type</th>\n",
       "      <th>Payment Method</th>\n",
       "      <th>Manager</th>\n",
       "      <th>City</th>\n",
       "    </tr>\n",
       "  </thead>\n",
       "  <tbody>\n",
       "    <tr>\n",
       "      <th>1</th>\n",
       "      <td>10452</td>\n",
       "      <td>2022-11-07 00:00:00</td>\n",
       "      <td>Fries</td>\n",
       "      <td>3.49</td>\n",
       "      <td>573.065903</td>\n",
       "      <td>Online</td>\n",
       "      <td>Gift Card</td>\n",
       "      <td>Tom Jackson</td>\n",
       "      <td>London</td>\n",
       "    </tr>\n",
       "    <tr>\n",
       "      <th>2</th>\n",
       "      <td>10453</td>\n",
       "      <td>2022-11-07 00:00:00</td>\n",
       "      <td>Beverages</td>\n",
       "      <td>2.95</td>\n",
       "      <td>745.762712</td>\n",
       "      <td>Online</td>\n",
       "      <td>Gift Card</td>\n",
       "      <td>Pablo Perez</td>\n",
       "      <td>Madrid</td>\n",
       "    </tr>\n",
       "    <tr>\n",
       "      <th>3</th>\n",
       "      <td>10454</td>\n",
       "      <td>2022-11-07 00:00:00</td>\n",
       "      <td>Sides &amp; Other</td>\n",
       "      <td>4.99</td>\n",
       "      <td>200.400802</td>\n",
       "      <td>In-store</td>\n",
       "      <td>Gift Card</td>\n",
       "      <td>Joao Silva</td>\n",
       "      <td>Lisbon</td>\n",
       "    </tr>\n",
       "    <tr>\n",
       "      <th>4</th>\n",
       "      <td>10455</td>\n",
       "      <td>2022-11-08 00:00:00</td>\n",
       "      <td>Burgers</td>\n",
       "      <td>12.99</td>\n",
       "      <td>569.668976</td>\n",
       "      <td>In-store</td>\n",
       "      <td>Credit Card</td>\n",
       "      <td>Walter Muller</td>\n",
       "      <td>Berlin</td>\n",
       "    </tr>\n",
       "    <tr>\n",
       "      <th>5</th>\n",
       "      <td>10456</td>\n",
       "      <td>2022-11-08 00:00:00</td>\n",
       "      <td>Chicken Sandwiches</td>\n",
       "      <td>9.95</td>\n",
       "      <td>201.005025</td>\n",
       "      <td>In-store</td>\n",
       "      <td>Credit Card</td>\n",
       "      <td>Walter Muller</td>\n",
       "      <td>Berlin</td>\n",
       "    </tr>\n",
       "  </tbody>\n",
       "</table>\n",
       "</div>"
      ],
      "text/plain": [
       "0 Order ID                 Date             Product  Price    Quantity  \\\n",
       "1    10452  2022-11-07 00:00:00               Fries   3.49  573.065903   \n",
       "2    10453  2022-11-07 00:00:00           Beverages   2.95  745.762712   \n",
       "3    10454  2022-11-07 00:00:00       Sides & Other   4.99  200.400802   \n",
       "4    10455  2022-11-08 00:00:00             Burgers  12.99  569.668976   \n",
       "5    10456  2022-11-08 00:00:00  Chicken Sandwiches   9.95  201.005025   \n",
       "\n",
       "0 Purchase Type Payment Method        Manager    City  \n",
       "1       Online       Gift Card    Tom Jackson  London  \n",
       "2       Online       Gift Card    Pablo Perez  Madrid  \n",
       "3     In-store       Gift Card     Joao Silva  Lisbon  \n",
       "4     In-store     Credit Card  Walter Muller  Berlin  \n",
       "5     In-store     Credit Card  Walter Muller  Berlin  "
      ]
     },
     "execution_count": 75,
     "metadata": {},
     "output_type": "execute_result"
    }
   ],
   "source": [
    "df.head()"
   ]
  },
  {
   "cell_type": "code",
   "execution_count": 81,
   "id": "89fc7d1d-6cf1-4c7c-b6e2-ff68a9197a21",
   "metadata": {},
   "outputs": [
    {
     "data": {
      "text/plain": [
       "0\n",
       "Order ID          254\n",
       "Date               53\n",
       "Product             5\n",
       "Price               7\n",
       "Quantity           29\n",
       "Purchase Type       3\n",
       "Payment Method      3\n",
       "Manager             5\n",
       "City                5\n",
       "dtype: int64"
      ]
     },
     "execution_count": 81,
     "metadata": {},
     "output_type": "execute_result"
    }
   ],
   "source": [
    "df.nunique()"
   ]
  },
  {
   "cell_type": "code",
   "execution_count": 85,
   "id": "5aa9e570-9a74-4ecf-9989-7f0af41489eb",
   "metadata": {},
   "outputs": [
    {
     "name": "stderr",
     "output_type": "stream",
     "text": [
      "C:\\Users\\dspar\\AppData\\Local\\Temp\\ipykernel_4076\\3627053830.py:1: FutureWarning: The behavior of value_counts with object-dtype is deprecated. In a future version, this will *not* perform dtype inference on the resulting index. To retain the old behavior, use `result.index = result.index.infer_objects()`\n",
      "  df.describe()\n"
     ]
    },
    {
     "data": {
      "text/html": [
       "<div>\n",
       "<style scoped>\n",
       "    .dataframe tbody tr th:only-of-type {\n",
       "        vertical-align: middle;\n",
       "    }\n",
       "\n",
       "    .dataframe tbody tr th {\n",
       "        vertical-align: top;\n",
       "    }\n",
       "\n",
       "    .dataframe thead th {\n",
       "        text-align: right;\n",
       "    }\n",
       "</style>\n",
       "<table border=\"1\" class=\"dataframe\">\n",
       "  <thead>\n",
       "    <tr style=\"text-align: right;\">\n",
       "      <th></th>\n",
       "      <th>Order ID</th>\n",
       "      <th>Date</th>\n",
       "      <th>Product</th>\n",
       "      <th>Price</th>\n",
       "      <th>Quantity</th>\n",
       "      <th>Purchase Type</th>\n",
       "      <th>Payment Method</th>\n",
       "      <th>Manager</th>\n",
       "      <th>City</th>\n",
       "    </tr>\n",
       "  </thead>\n",
       "  <tbody>\n",
       "    <tr>\n",
       "      <th>count</th>\n",
       "      <td>254</td>\n",
       "      <td>254</td>\n",
       "      <td>254</td>\n",
       "      <td>254.00</td>\n",
       "      <td>254.000000</td>\n",
       "      <td>254</td>\n",
       "      <td>254</td>\n",
       "      <td>254</td>\n",
       "      <td>254</td>\n",
       "    </tr>\n",
       "    <tr>\n",
       "      <th>unique</th>\n",
       "      <td>254</td>\n",
       "      <td>53</td>\n",
       "      <td>5</td>\n",
       "      <td>7.00</td>\n",
       "      <td>29.000000</td>\n",
       "      <td>3</td>\n",
       "      <td>3</td>\n",
       "      <td>5</td>\n",
       "      <td>5</td>\n",
       "    </tr>\n",
       "    <tr>\n",
       "      <th>top</th>\n",
       "      <td>10452</td>\n",
       "      <td>2022-12-03 00:00:00</td>\n",
       "      <td>Burgers</td>\n",
       "      <td>12.99</td>\n",
       "      <td>200.400802</td>\n",
       "      <td>Online</td>\n",
       "      <td>Credit Card</td>\n",
       "      <td>Tom Jackson</td>\n",
       "      <td>London</td>\n",
       "    </tr>\n",
       "    <tr>\n",
       "      <th>freq</th>\n",
       "      <td>1</td>\n",
       "      <td>5</td>\n",
       "      <td>52</td>\n",
       "      <td>52.00</td>\n",
       "      <td>49.000000</td>\n",
       "      <td>107</td>\n",
       "      <td>120</td>\n",
       "      <td>75</td>\n",
       "      <td>75</td>\n",
       "    </tr>\n",
       "  </tbody>\n",
       "</table>\n",
       "</div>"
      ],
      "text/plain": [
       "0       Order ID                 Date  Product   Price    Quantity  \\\n",
       "count        254                  254      254  254.00  254.000000   \n",
       "unique       254                   53        5    7.00   29.000000   \n",
       "top        10452  2022-12-03 00:00:00  Burgers   12.99  200.400802   \n",
       "freq           1                    5       52   52.00   49.000000   \n",
       "\n",
       "0      Purchase Type Payment Method      Manager    City  \n",
       "count            254            254          254     254  \n",
       "unique             3              3            5       5  \n",
       "top          Online     Credit Card  Tom Jackson  London  \n",
       "freq             107            120           75      75  "
      ]
     },
     "execution_count": 85,
     "metadata": {},
     "output_type": "execute_result"
    }
   ],
   "source": [
    "df.describe()"
   ]
  },
  {
   "cell_type": "code",
   "execution_count": 89,
   "id": "83a05f77-f7c4-4b9e-bf75-80fe4fac4fb4",
   "metadata": {},
   "outputs": [
    {
     "data": {
      "text/html": [
       "<div>\n",
       "<style scoped>\n",
       "    .dataframe tbody tr th:only-of-type {\n",
       "        vertical-align: middle;\n",
       "    }\n",
       "\n",
       "    .dataframe tbody tr th {\n",
       "        vertical-align: top;\n",
       "    }\n",
       "\n",
       "    .dataframe thead th {\n",
       "        text-align: right;\n",
       "    }\n",
       "</style>\n",
       "<table border=\"1\" class=\"dataframe\">\n",
       "  <thead>\n",
       "    <tr style=\"text-align: right;\">\n",
       "      <th></th>\n",
       "      <th>Order ID</th>\n",
       "      <th>Date</th>\n",
       "      <th>Product</th>\n",
       "      <th>Price</th>\n",
       "      <th>Quantity</th>\n",
       "      <th>Purchase Type</th>\n",
       "      <th>Payment Method</th>\n",
       "      <th>Manager</th>\n",
       "      <th>City</th>\n",
       "    </tr>\n",
       "  </thead>\n",
       "  <tbody>\n",
       "  </tbody>\n",
       "</table>\n",
       "</div>"
      ],
      "text/plain": [
       "Empty DataFrame\n",
       "Columns: [Order ID, Date, Product, Price, Quantity, Purchase Type, Payment Method, Manager, City]\n",
       "Index: []"
      ]
     },
     "execution_count": 89,
     "metadata": {},
     "output_type": "execute_result"
    }
   ],
   "source": [
    "df[df.duplicated()]"
   ]
  },
  {
   "cell_type": "code",
   "execution_count": 91,
   "id": "fbf1f611-0d33-4887-9882-d0da7df2555b",
   "metadata": {},
   "outputs": [],
   "source": [
    "df.drop(32, inplace = True)"
   ]
  },
  {
   "cell_type": "markdown",
   "id": "3d8b184c-2d9d-4864-a151-64e01381dbb5",
   "metadata": {},
   "source": [
    "#### Converting the datatypes of columns"
   ]
  },
  {
   "cell_type": "code",
   "execution_count": 94,
   "id": "2d8828f1-8149-4673-920f-e8a0baabec98",
   "metadata": {},
   "outputs": [
    {
     "name": "stdout",
     "output_type": "stream",
     "text": [
      "<class 'pandas.core.frame.DataFrame'>\n",
      "Index: 253 entries, 1 to 254\n",
      "Data columns (total 9 columns):\n",
      " #   Column          Non-Null Count  Dtype \n",
      "---  ------          --------------  ----- \n",
      " 0   Order ID        253 non-null    object\n",
      " 1   Date            253 non-null    object\n",
      " 2   Product         253 non-null    object\n",
      " 3   Price           253 non-null    object\n",
      " 4   Quantity        253 non-null    object\n",
      " 5   Purchase Type   253 non-null    object\n",
      " 6   Payment Method  253 non-null    object\n",
      " 7   Manager         253 non-null    object\n",
      " 8   City            253 non-null    object\n",
      "dtypes: object(9)\n",
      "memory usage: 19.8+ KB\n"
     ]
    }
   ],
   "source": [
    "df.info()"
   ]
  },
  {
   "cell_type": "code",
   "execution_count": 96,
   "id": "1eccfa39-7e05-44d2-a16b-97bc24484186",
   "metadata": {},
   "outputs": [
    {
     "data": {
      "text/html": [
       "<div>\n",
       "<style scoped>\n",
       "    .dataframe tbody tr th:only-of-type {\n",
       "        vertical-align: middle;\n",
       "    }\n",
       "\n",
       "    .dataframe tbody tr th {\n",
       "        vertical-align: top;\n",
       "    }\n",
       "\n",
       "    .dataframe thead th {\n",
       "        text-align: right;\n",
       "    }\n",
       "</style>\n",
       "<table border=\"1\" class=\"dataframe\">\n",
       "  <thead>\n",
       "    <tr style=\"text-align: right;\">\n",
       "      <th></th>\n",
       "      <th>Order ID</th>\n",
       "      <th>Date</th>\n",
       "      <th>Product</th>\n",
       "      <th>Price</th>\n",
       "      <th>Quantity</th>\n",
       "      <th>Purchase Type</th>\n",
       "      <th>Payment Method</th>\n",
       "      <th>Manager</th>\n",
       "      <th>City</th>\n",
       "    </tr>\n",
       "  </thead>\n",
       "  <tbody>\n",
       "    <tr>\n",
       "      <th>1</th>\n",
       "      <td>10452</td>\n",
       "      <td>2022-11-07 00:00:00</td>\n",
       "      <td>Fries</td>\n",
       "      <td>3.49</td>\n",
       "      <td>573.065903</td>\n",
       "      <td>Online</td>\n",
       "      <td>Gift Card</td>\n",
       "      <td>Tom Jackson</td>\n",
       "      <td>London</td>\n",
       "    </tr>\n",
       "    <tr>\n",
       "      <th>2</th>\n",
       "      <td>10453</td>\n",
       "      <td>2022-11-07 00:00:00</td>\n",
       "      <td>Beverages</td>\n",
       "      <td>2.95</td>\n",
       "      <td>745.762712</td>\n",
       "      <td>Online</td>\n",
       "      <td>Gift Card</td>\n",
       "      <td>Pablo Perez</td>\n",
       "      <td>Madrid</td>\n",
       "    </tr>\n",
       "    <tr>\n",
       "      <th>3</th>\n",
       "      <td>10454</td>\n",
       "      <td>2022-11-07 00:00:00</td>\n",
       "      <td>Sides &amp; Other</td>\n",
       "      <td>4.99</td>\n",
       "      <td>200.400802</td>\n",
       "      <td>In-store</td>\n",
       "      <td>Gift Card</td>\n",
       "      <td>Joao Silva</td>\n",
       "      <td>Lisbon</td>\n",
       "    </tr>\n",
       "    <tr>\n",
       "      <th>4</th>\n",
       "      <td>10455</td>\n",
       "      <td>2022-11-08 00:00:00</td>\n",
       "      <td>Burgers</td>\n",
       "      <td>12.99</td>\n",
       "      <td>569.668976</td>\n",
       "      <td>In-store</td>\n",
       "      <td>Credit Card</td>\n",
       "      <td>Walter Muller</td>\n",
       "      <td>Berlin</td>\n",
       "    </tr>\n",
       "    <tr>\n",
       "      <th>5</th>\n",
       "      <td>10456</td>\n",
       "      <td>2022-11-08 00:00:00</td>\n",
       "      <td>Chicken Sandwiches</td>\n",
       "      <td>9.95</td>\n",
       "      <td>201.005025</td>\n",
       "      <td>In-store</td>\n",
       "      <td>Credit Card</td>\n",
       "      <td>Walter Muller</td>\n",
       "      <td>Berlin</td>\n",
       "    </tr>\n",
       "  </tbody>\n",
       "</table>\n",
       "</div>"
      ],
      "text/plain": [
       "0 Order ID                 Date             Product  Price    Quantity  \\\n",
       "1    10452  2022-11-07 00:00:00               Fries   3.49  573.065903   \n",
       "2    10453  2022-11-07 00:00:00           Beverages   2.95  745.762712   \n",
       "3    10454  2022-11-07 00:00:00       Sides & Other   4.99  200.400802   \n",
       "4    10455  2022-11-08 00:00:00             Burgers  12.99  569.668976   \n",
       "5    10456  2022-11-08 00:00:00  Chicken Sandwiches   9.95  201.005025   \n",
       "\n",
       "0 Purchase Type Payment Method        Manager    City  \n",
       "1       Online       Gift Card    Tom Jackson  London  \n",
       "2       Online       Gift Card    Pablo Perez  Madrid  \n",
       "3     In-store       Gift Card     Joao Silva  Lisbon  \n",
       "4     In-store     Credit Card  Walter Muller  Berlin  \n",
       "5     In-store     Credit Card  Walter Muller  Berlin  "
      ]
     },
     "execution_count": 96,
     "metadata": {},
     "output_type": "execute_result"
    }
   ],
   "source": [
    "df.head()"
   ]
  },
  {
   "cell_type": "code",
   "execution_count": 106,
   "id": "1cb4a210-0fdf-47e0-b8a1-27acc57c3202",
   "metadata": {},
   "outputs": [],
   "source": [
    "df['Order ID'] = df['Order ID'].astype('int')\n",
    "df['Price'] = df['Price'].astype('float')\n",
    "df['Quantity'] = df['Quantity'].astype('float')"
   ]
  },
  {
   "cell_type": "code",
   "execution_count": 100,
   "id": "48e3df11-697e-480f-9fb5-1a4f53412799",
   "metadata": {},
   "outputs": [
    {
     "name": "stdout",
     "output_type": "stream",
     "text": [
      "<class 'pandas.core.frame.DataFrame'>\n",
      "Index: 253 entries, 1 to 254\n",
      "Data columns (total 9 columns):\n",
      " #   Column          Non-Null Count  Dtype \n",
      "---  ------          --------------  ----- \n",
      " 0   Order ID        253 non-null    int32 \n",
      " 1   Date            253 non-null    object\n",
      " 2   Product         253 non-null    object\n",
      " 3   Price           253 non-null    object\n",
      " 4   Quantity        253 non-null    object\n",
      " 5   Purchase Type   253 non-null    object\n",
      " 6   Payment Method  253 non-null    object\n",
      " 7   Manager         253 non-null    object\n",
      " 8   City            253 non-null    object\n",
      "dtypes: int32(1), object(8)\n",
      "memory usage: 18.8+ KB\n"
     ]
    }
   ],
   "source": [
    "df.info()"
   ]
  },
  {
   "cell_type": "code",
   "execution_count": 110,
   "id": "03e9c75c-cace-47ef-88a5-bc6435e1f0c9",
   "metadata": {},
   "outputs": [],
   "source": [
    "df.Date = pd.to_datetime(df.Date)"
   ]
  },
  {
   "cell_type": "code",
   "execution_count": 112,
   "id": "e2058cba-7529-4fe1-b377-025bf72b52b5",
   "metadata": {},
   "outputs": [
    {
     "name": "stdout",
     "output_type": "stream",
     "text": [
      "<class 'pandas.core.frame.DataFrame'>\n",
      "Index: 253 entries, 1 to 254\n",
      "Data columns (total 9 columns):\n",
      " #   Column          Non-Null Count  Dtype         \n",
      "---  ------          --------------  -----         \n",
      " 0   Order ID        253 non-null    int32         \n",
      " 1   Date            253 non-null    datetime64[ns]\n",
      " 2   Product         253 non-null    object        \n",
      " 3   Price           253 non-null    float64       \n",
      " 4   Quantity        253 non-null    float64       \n",
      " 5   Purchase Type   253 non-null    object        \n",
      " 6   Payment Method  253 non-null    object        \n",
      " 7   Manager         253 non-null    object        \n",
      " 8   City            253 non-null    object        \n",
      "dtypes: datetime64[ns](1), float64(2), int32(1), object(5)\n",
      "memory usage: 18.8+ KB\n"
     ]
    }
   ],
   "source": [
    "df.info()"
   ]
  },
  {
   "cell_type": "markdown",
   "id": "32d71cab-cf1b-4b3b-8a24-f72656a4dd82",
   "metadata": {},
   "source": [
    "#### Most Preferred Payment Method"
   ]
  },
  {
   "cell_type": "code",
   "execution_count": 115,
   "id": "90fbf9b6-7201-4c19-9d94-eb4beea5ff28",
   "metadata": {},
   "outputs": [
    {
     "data": {
      "text/html": [
       "<div>\n",
       "<style scoped>\n",
       "    .dataframe tbody tr th:only-of-type {\n",
       "        vertical-align: middle;\n",
       "    }\n",
       "\n",
       "    .dataframe tbody tr th {\n",
       "        vertical-align: top;\n",
       "    }\n",
       "\n",
       "    .dataframe thead th {\n",
       "        text-align: right;\n",
       "    }\n",
       "</style>\n",
       "<table border=\"1\" class=\"dataframe\">\n",
       "  <thead>\n",
       "    <tr style=\"text-align: right;\">\n",
       "      <th></th>\n",
       "      <th>Order ID</th>\n",
       "      <th>Date</th>\n",
       "      <th>Product</th>\n",
       "      <th>Price</th>\n",
       "      <th>Quantity</th>\n",
       "      <th>Purchase Type</th>\n",
       "      <th>Payment Method</th>\n",
       "      <th>Manager</th>\n",
       "      <th>City</th>\n",
       "    </tr>\n",
       "  </thead>\n",
       "  <tbody>\n",
       "    <tr>\n",
       "      <th>1</th>\n",
       "      <td>10452</td>\n",
       "      <td>2022-11-07</td>\n",
       "      <td>Fries</td>\n",
       "      <td>3.49</td>\n",
       "      <td>573.065903</td>\n",
       "      <td>Online</td>\n",
       "      <td>Gift Card</td>\n",
       "      <td>Tom Jackson</td>\n",
       "      <td>London</td>\n",
       "    </tr>\n",
       "    <tr>\n",
       "      <th>2</th>\n",
       "      <td>10453</td>\n",
       "      <td>2022-11-07</td>\n",
       "      <td>Beverages</td>\n",
       "      <td>2.95</td>\n",
       "      <td>745.762712</td>\n",
       "      <td>Online</td>\n",
       "      <td>Gift Card</td>\n",
       "      <td>Pablo Perez</td>\n",
       "      <td>Madrid</td>\n",
       "    </tr>\n",
       "    <tr>\n",
       "      <th>3</th>\n",
       "      <td>10454</td>\n",
       "      <td>2022-11-07</td>\n",
       "      <td>Sides &amp; Other</td>\n",
       "      <td>4.99</td>\n",
       "      <td>200.400802</td>\n",
       "      <td>In-store</td>\n",
       "      <td>Gift Card</td>\n",
       "      <td>Joao Silva</td>\n",
       "      <td>Lisbon</td>\n",
       "    </tr>\n",
       "    <tr>\n",
       "      <th>4</th>\n",
       "      <td>10455</td>\n",
       "      <td>2022-11-08</td>\n",
       "      <td>Burgers</td>\n",
       "      <td>12.99</td>\n",
       "      <td>569.668976</td>\n",
       "      <td>In-store</td>\n",
       "      <td>Credit Card</td>\n",
       "      <td>Walter Muller</td>\n",
       "      <td>Berlin</td>\n",
       "    </tr>\n",
       "    <tr>\n",
       "      <th>5</th>\n",
       "      <td>10456</td>\n",
       "      <td>2022-11-08</td>\n",
       "      <td>Chicken Sandwiches</td>\n",
       "      <td>9.95</td>\n",
       "      <td>201.005025</td>\n",
       "      <td>In-store</td>\n",
       "      <td>Credit Card</td>\n",
       "      <td>Walter Muller</td>\n",
       "      <td>Berlin</td>\n",
       "    </tr>\n",
       "  </tbody>\n",
       "</table>\n",
       "</div>"
      ],
      "text/plain": [
       "0  Order ID       Date             Product  Price    Quantity Purchase Type  \\\n",
       "1     10452 2022-11-07               Fries   3.49  573.065903       Online    \n",
       "2     10453 2022-11-07           Beverages   2.95  745.762712       Online    \n",
       "3     10454 2022-11-07       Sides & Other   4.99  200.400802     In-store    \n",
       "4     10455 2022-11-08             Burgers  12.99  569.668976     In-store    \n",
       "5     10456 2022-11-08  Chicken Sandwiches   9.95  201.005025     In-store    \n",
       "\n",
       "0 Payment Method        Manager    City  \n",
       "1      Gift Card    Tom Jackson  London  \n",
       "2      Gift Card    Pablo Perez  Madrid  \n",
       "3      Gift Card     Joao Silva  Lisbon  \n",
       "4    Credit Card  Walter Muller  Berlin  \n",
       "5    Credit Card  Walter Muller  Berlin  "
      ]
     },
     "execution_count": 115,
     "metadata": {},
     "output_type": "execute_result"
    }
   ],
   "source": [
    "df.head()"
   ]
  },
  {
   "cell_type": "code",
   "execution_count": 125,
   "id": "205c0a03-cf41-48b8-a3a9-572de450843d",
   "metadata": {},
   "outputs": [
    {
     "data": {
      "text/plain": [
       "253"
      ]
     },
     "execution_count": 125,
     "metadata": {},
     "output_type": "execute_result"
    }
   ],
   "source": [
    "df['Payment Method'].count()"
   ]
  },
  {
   "cell_type": "code",
   "execution_count": 127,
   "id": "3acc2bf3-5901-441a-a1c8-f13dc693e605",
   "metadata": {},
   "outputs": [
    {
     "data": {
      "text/plain": [
       "3"
      ]
     },
     "execution_count": 127,
     "metadata": {},
     "output_type": "execute_result"
    }
   ],
   "source": [
    "df['Payment Method'].nunique()"
   ]
  },
  {
   "cell_type": "code",
   "execution_count": 129,
   "id": "0980bfea-7184-4fec-b005-cf9c3a62947f",
   "metadata": {},
   "outputs": [
    {
     "data": {
      "text/plain": [
       "array([' Gift Card', ' Credit Card', ' Cash'], dtype=object)"
      ]
     },
     "execution_count": 129,
     "metadata": {},
     "output_type": "execute_result"
    }
   ],
   "source": [
    "df['Payment Method'].unique()"
   ]
  },
  {
   "cell_type": "code",
   "execution_count": 133,
   "id": "1583281b-b021-49ca-8d7e-568f8605d793",
   "metadata": {},
   "outputs": [
    {
     "data": {
      "text/plain": [
       "Payment Method\n",
       "Credit Card    119\n",
       "Cash            76\n",
       "Gift Card       58\n",
       "Name: count, dtype: int64"
      ]
     },
     "execution_count": 133,
     "metadata": {},
     "output_type": "execute_result"
    }
   ],
   "source": [
    "df['Payment Method'].value_counts()"
   ]
  },
  {
   "cell_type": "code",
   "execution_count": 135,
   "id": "957c8101-406e-47d7-9899-8db931b21d0b",
   "metadata": {},
   "outputs": [
    {
     "data": {
      "text/plain": [
       "Payment Method\n",
       "Credit Card    47.035573\n",
       "Cash           30.039526\n",
       "Gift Card      22.924901\n",
       "Name: proportion, dtype: float64"
      ]
     },
     "execution_count": 135,
     "metadata": {},
     "output_type": "execute_result"
    }
   ],
   "source": [
    "df['Payment Method'].value_counts(normalize= True)*100"
   ]
  },
  {
   "cell_type": "code",
   "execution_count": 150,
   "id": "1dfba1d7-1bf5-4c3d-8de8-068f266438b0",
   "metadata": {},
   "outputs": [
    {
     "data": {
      "image/png": "[encoded data removed]",
      "text/plain": [
       "<Figure size 500x400 with 1 Axes>"
      ]
     },
     "metadata": {},
     "output_type": "display_data"
    }
   ],
   "source": [
    "plt.figure(figsize=(5, 4))\n",
    "ax = df['Payment Method'].value_counts().plot(kind='bar')\n",
    "for bar in ax.containers:\n",
    "    ax.bar_label(bar)\n",
    "plt.show()\n"
   ]
  },
  {
   "cell_type": "markdown",
   "id": "5c195683-a404-45a3-8fd4-ea8bc79a0249",
   "metadata": {},
   "source": [
    "##### Methods which has been used most is Credit Card with 47% of customer using it."
   ]
  },
  {
   "cell_type": "markdown",
   "id": "ca390111-01f3-4e8e-b733-5465212fc0ff",
   "metadata": {},
   "source": [
    "### Most Selling products\n",
    "#### .By Quantity\n",
    "#### .By Revenue"
   ]
  },
  {
   "cell_type": "code",
   "execution_count": 154,
   "id": "5cf7e11d-131c-45e2-ba4e-49c6ecf8ebc0",
   "metadata": {},
   "outputs": [
    {
     "data": {
      "text/html": [
       "<div>\n",
       "<style scoped>\n",
       "    .dataframe tbody tr th:only-of-type {\n",
       "        vertical-align: middle;\n",
       "    }\n",
       "\n",
       "    .dataframe tbody tr th {\n",
       "        vertical-align: top;\n",
       "    }\n",
       "\n",
       "    .dataframe thead th {\n",
       "        text-align: right;\n",
       "    }\n",
       "</style>\n",
       "<table border=\"1\" class=\"dataframe\">\n",
       "  <thead>\n",
       "    <tr style=\"text-align: right;\">\n",
       "      <th></th>\n",
       "      <th>Order ID</th>\n",
       "      <th>Date</th>\n",
       "      <th>Product</th>\n",
       "      <th>Price</th>\n",
       "      <th>Quantity</th>\n",
       "      <th>Purchase Type</th>\n",
       "      <th>Payment Method</th>\n",
       "      <th>Manager</th>\n",
       "      <th>City</th>\n",
       "    </tr>\n",
       "  </thead>\n",
       "  <tbody>\n",
       "    <tr>\n",
       "      <th>1</th>\n",
       "      <td>10452</td>\n",
       "      <td>2022-11-07</td>\n",
       "      <td>Fries</td>\n",
       "      <td>3.49</td>\n",
       "      <td>573.065903</td>\n",
       "      <td>Online</td>\n",
       "      <td>Gift Card</td>\n",
       "      <td>Tom Jackson</td>\n",
       "      <td>London</td>\n",
       "    </tr>\n",
       "    <tr>\n",
       "      <th>2</th>\n",
       "      <td>10453</td>\n",
       "      <td>2022-11-07</td>\n",
       "      <td>Beverages</td>\n",
       "      <td>2.95</td>\n",
       "      <td>745.762712</td>\n",
       "      <td>Online</td>\n",
       "      <td>Gift Card</td>\n",
       "      <td>Pablo Perez</td>\n",
       "      <td>Madrid</td>\n",
       "    </tr>\n",
       "    <tr>\n",
       "      <th>3</th>\n",
       "      <td>10454</td>\n",
       "      <td>2022-11-07</td>\n",
       "      <td>Sides &amp; Other</td>\n",
       "      <td>4.99</td>\n",
       "      <td>200.400802</td>\n",
       "      <td>In-store</td>\n",
       "      <td>Gift Card</td>\n",
       "      <td>Joao Silva</td>\n",
       "      <td>Lisbon</td>\n",
       "    </tr>\n",
       "    <tr>\n",
       "      <th>4</th>\n",
       "      <td>10455</td>\n",
       "      <td>2022-11-08</td>\n",
       "      <td>Burgers</td>\n",
       "      <td>12.99</td>\n",
       "      <td>569.668976</td>\n",
       "      <td>In-store</td>\n",
       "      <td>Credit Card</td>\n",
       "      <td>Walter Muller</td>\n",
       "      <td>Berlin</td>\n",
       "    </tr>\n",
       "    <tr>\n",
       "      <th>5</th>\n",
       "      <td>10456</td>\n",
       "      <td>2022-11-08</td>\n",
       "      <td>Chicken Sandwiches</td>\n",
       "      <td>9.95</td>\n",
       "      <td>201.005025</td>\n",
       "      <td>In-store</td>\n",
       "      <td>Credit Card</td>\n",
       "      <td>Walter Muller</td>\n",
       "      <td>Berlin</td>\n",
       "    </tr>\n",
       "  </tbody>\n",
       "</table>\n",
       "</div>"
      ],
      "text/plain": [
       "0  Order ID       Date             Product  Price    Quantity Purchase Type  \\\n",
       "1     10452 2022-11-07               Fries   3.49  573.065903       Online    \n",
       "2     10453 2022-11-07           Beverages   2.95  745.762712       Online    \n",
       "3     10454 2022-11-07       Sides & Other   4.99  200.400802     In-store    \n",
       "4     10455 2022-11-08             Burgers  12.99  569.668976     In-store    \n",
       "5     10456 2022-11-08  Chicken Sandwiches   9.95  201.005025     In-store    \n",
       "\n",
       "0 Payment Method        Manager    City  \n",
       "1      Gift Card    Tom Jackson  London  \n",
       "2      Gift Card    Pablo Perez  Madrid  \n",
       "3      Gift Card     Joao Silva  Lisbon  \n",
       "4    Credit Card  Walter Muller  Berlin  \n",
       "5    Credit Card  Walter Muller  Berlin  "
      ]
     },
     "execution_count": 154,
     "metadata": {},
     "output_type": "execute_result"
    }
   ],
   "source": [
    "df.head()\n",
    "        "
   ]
  },
  {
   "cell_type": "code",
   "execution_count": 176,
   "id": "89b9d13c-ee07-458c-b4f6-5254ce90be91",
   "metadata": {},
   "outputs": [
    {
     "data": {
      "image/png": "[encoded data removed]",
      "text/plain": [
       "<Figure size 640x480 with 1 Axes>"
      ]
     },
     "metadata": {},
     "output_type": "display_data"
    }
   ],
   "source": [
    "ax = df.groupby('Product')['Quantity'].sum().plot(kind='bar')\n",
    "for bar in ax.containers:\n",
    "    ax.bar_label(bar)\n",
    "\n",
    "plt.show()"
   ]
  },
  {
   "cell_type": "code",
   "execution_count": 228,
   "id": "d66310e1-6e44-425f-995a-aa099e75e5ff",
   "metadata": {},
   "outputs": [
    {
     "data": {
      "text/plain": [
       "1      2000.0\n",
       "2      2200.0\n",
       "3      1000.0\n",
       "4      7400.0\n",
       "5      2000.0\n",
       "        ...  \n",
       "250    1000.0\n",
       "251    9800.0\n",
       "252    2800.0\n",
       "253    2200.0\n",
       "254    2000.0\n",
       "Name: Revenue, Length: 253, dtype: float64"
      ]
     },
     "execution_count": 228,
     "metadata": {},
     "output_type": "execute_result"
    }
   ],
   "source": [
    "df['Revenue'] = df['Price']*df['Quantity']\n",
    "df['Revenue'].round(0)"
   ]
  },
  {
   "cell_type": "code",
   "execution_count": 230,
   "id": "2b98cca1-9e03-4197-8d86-83b7f13d492b",
   "metadata": {},
   "outputs": [
    {
     "data": {
      "image/png": "[encoded data removed]",
      "text/plain": [
       "<Figure size 640x480 with 1 Axes>"
      ]
     },
     "metadata": {},
     "output_type": "display_data"
    }
   ],
   "source": [
    "ax = df.groupby('Product')['Revenue'].sum().plot(kind='bar')\n",
    "for bar in ax.containers:\n",
    "    ax.bar_label(bar)\n",
    "\n",
    "plt.show()"
   ]
  },
  {
   "cell_type": "markdown",
   "id": "f00affaa-14fe-4c74-b71b-aacb54ae9980",
   "metadata": {},
   "source": [
    "##### Which city has the maximum revenue\n",
    "##### Or\n",
    "##### Which manager earned the maximum revenue"
   ]
  },
  {
   "cell_type": "code",
   "execution_count": 184,
   "id": "021571c2-cb8c-410f-b84b-889c58ee1be1",
   "metadata": {},
   "outputs": [
    {
     "data": {
      "text/html": [
       "<div>\n",
       "<style scoped>\n",
       "    .dataframe tbody tr th:only-of-type {\n",
       "        vertical-align: middle;\n",
       "    }\n",
       "\n",
       "    .dataframe tbody tr th {\n",
       "        vertical-align: top;\n",
       "    }\n",
       "\n",
       "    .dataframe thead th {\n",
       "        text-align: right;\n",
       "    }\n",
       "</style>\n",
       "<table border=\"1\" class=\"dataframe\">\n",
       "  <thead>\n",
       "    <tr style=\"text-align: right;\">\n",
       "      <th></th>\n",
       "      <th>Order ID</th>\n",
       "      <th>Date</th>\n",
       "      <th>Product</th>\n",
       "      <th>Price</th>\n",
       "      <th>Quantity</th>\n",
       "      <th>Purchase Type</th>\n",
       "      <th>Payment Method</th>\n",
       "      <th>Manager</th>\n",
       "      <th>City</th>\n",
       "    </tr>\n",
       "  </thead>\n",
       "  <tbody>\n",
       "    <tr>\n",
       "      <th>1</th>\n",
       "      <td>10452</td>\n",
       "      <td>2022-11-07</td>\n",
       "      <td>Fries</td>\n",
       "      <td>3.49</td>\n",
       "      <td>573.065903</td>\n",
       "      <td>Online</td>\n",
       "      <td>Gift Card</td>\n",
       "      <td>Tom Jackson</td>\n",
       "      <td>London</td>\n",
       "    </tr>\n",
       "    <tr>\n",
       "      <th>2</th>\n",
       "      <td>10453</td>\n",
       "      <td>2022-11-07</td>\n",
       "      <td>Beverages</td>\n",
       "      <td>2.95</td>\n",
       "      <td>745.762712</td>\n",
       "      <td>Online</td>\n",
       "      <td>Gift Card</td>\n",
       "      <td>Pablo Perez</td>\n",
       "      <td>Madrid</td>\n",
       "    </tr>\n",
       "    <tr>\n",
       "      <th>3</th>\n",
       "      <td>10454</td>\n",
       "      <td>2022-11-07</td>\n",
       "      <td>Sides &amp; Other</td>\n",
       "      <td>4.99</td>\n",
       "      <td>200.400802</td>\n",
       "      <td>In-store</td>\n",
       "      <td>Gift Card</td>\n",
       "      <td>Joao Silva</td>\n",
       "      <td>Lisbon</td>\n",
       "    </tr>\n",
       "    <tr>\n",
       "      <th>4</th>\n",
       "      <td>10455</td>\n",
       "      <td>2022-11-08</td>\n",
       "      <td>Burgers</td>\n",
       "      <td>12.99</td>\n",
       "      <td>569.668976</td>\n",
       "      <td>In-store</td>\n",
       "      <td>Credit Card</td>\n",
       "      <td>Walter Muller</td>\n",
       "      <td>Berlin</td>\n",
       "    </tr>\n",
       "    <tr>\n",
       "      <th>5</th>\n",
       "      <td>10456</td>\n",
       "      <td>2022-11-08</td>\n",
       "      <td>Chicken Sandwiches</td>\n",
       "      <td>9.95</td>\n",
       "      <td>201.005025</td>\n",
       "      <td>In-store</td>\n",
       "      <td>Credit Card</td>\n",
       "      <td>Walter Muller</td>\n",
       "      <td>Berlin</td>\n",
       "    </tr>\n",
       "  </tbody>\n",
       "</table>\n",
       "</div>"
      ],
      "text/plain": [
       "0  Order ID       Date             Product  Price    Quantity Purchase Type  \\\n",
       "1     10452 2022-11-07               Fries   3.49  573.065903       Online    \n",
       "2     10453 2022-11-07           Beverages   2.95  745.762712       Online    \n",
       "3     10454 2022-11-07       Sides & Other   4.99  200.400802     In-store    \n",
       "4     10455 2022-11-08             Burgers  12.99  569.668976     In-store    \n",
       "5     10456 2022-11-08  Chicken Sandwiches   9.95  201.005025     In-store    \n",
       "\n",
       "0 Payment Method        Manager    City  \n",
       "1      Gift Card    Tom Jackson  London  \n",
       "2      Gift Card    Pablo Perez  Madrid  \n",
       "3      Gift Card     Joao Silva  Lisbon  \n",
       "4    Credit Card  Walter Muller  Berlin  \n",
       "5    Credit Card  Walter Muller  Berlin  "
      ]
     },
     "execution_count": 184,
     "metadata": {},
     "output_type": "execute_result"
    }
   ],
   "source": [
    "df.head()"
   ]
  },
  {
   "cell_type": "code",
   "execution_count": 232,
   "id": "fe6e8261-f115-4bca-a48f-177b01b8b7a0",
   "metadata": {},
   "outputs": [
    {
     "data": {
      "text/plain": [
       "City\n",
       "Paris      79800.000000\n",
       "Berlin    100600.000000\n",
       "Madrid    136200.000000\n",
       "London    211200.000000\n",
       "Lisbon    239713.694547\n",
       "Name: Revenue, dtype: float64"
      ]
     },
     "execution_count": 232,
     "metadata": {},
     "output_type": "execute_result"
    }
   ],
   "source": [
    "df.groupby('City')['Revenue'].sum().sort_values(ascending = True)\n"
   ]
  },
  {
   "cell_type": "markdown",
   "id": "ec83caaf-150a-400e-a798-7ce73960ba16",
   "metadata": {},
   "source": [
    "#### Datewise Reevenue"
   ]
  },
  {
   "cell_type": "code",
   "execution_count": 234,
   "id": "ef029c88-bb54-4ca1-a1da-38be6fc48372",
   "metadata": {},
   "outputs": [
    {
     "data": {
      "image/png": "[encoded data removed]",
      "text/plain": [
       "<Figure size 900x400 with 1 Axes>"
      ]
     },
     "metadata": {},
     "output_type": "display_data"
    }
   ],
   "source": [
    "df.plot('Date','Revenue',color ='red',linewidth =2,figsize = (9,4))\n",
    "plt.show()"
   ]
  },
  {
   "cell_type": "markdown",
   "id": "ba171101-0871-4b7e-b290-0cf975e725ca",
   "metadata": {},
   "source": [
    "#### Average revenue for the month of november and december"
   ]
  },
  {
   "cell_type": "code",
   "execution_count": 250,
   "id": "44571ef8-6942-412c-ae51-0b5bc1c9af97",
   "metadata": {},
   "outputs": [],
   "source": [
    "df['Month'] = df['Date'].dt.month"
   ]
  },
  {
   "cell_type": "code",
   "execution_count": 256,
   "id": "49a34b4d-ff41-4a05-989d-7f7cc774f90a",
   "metadata": {},
   "outputs": [
    {
     "data": {
      "text/html": [
       "<div>\n",
       "<style scoped>\n",
       "    .dataframe tbody tr th:only-of-type {\n",
       "        vertical-align: middle;\n",
       "    }\n",
       "\n",
       "    .dataframe tbody tr th {\n",
       "        vertical-align: top;\n",
       "    }\n",
       "\n",
       "    .dataframe thead th {\n",
       "        text-align: right;\n",
       "    }\n",
       "</style>\n",
       "<table border=\"1\" class=\"dataframe\">\n",
       "  <thead>\n",
       "    <tr style=\"text-align: right;\">\n",
       "      <th></th>\n",
       "      <th>Order ID</th>\n",
       "      <th>Date</th>\n",
       "      <th>Product</th>\n",
       "      <th>Price</th>\n",
       "      <th>Quantity</th>\n",
       "      <th>Purchase Type</th>\n",
       "      <th>Payment Method</th>\n",
       "      <th>Manager</th>\n",
       "      <th>City</th>\n",
       "      <th>Revenue</th>\n",
       "      <th>Month</th>\n",
       "    </tr>\n",
       "  </thead>\n",
       "  <tbody>\n",
       "    <tr>\n",
       "      <th>1</th>\n",
       "      <td>10452</td>\n",
       "      <td>2022-11-07</td>\n",
       "      <td>Fries</td>\n",
       "      <td>3.49</td>\n",
       "      <td>573.065903</td>\n",
       "      <td>Online</td>\n",
       "      <td>Gift Card</td>\n",
       "      <td>Tom Jackson</td>\n",
       "      <td>London</td>\n",
       "      <td>2000.0</td>\n",
       "      <td>11</td>\n",
       "    </tr>\n",
       "    <tr>\n",
       "      <th>2</th>\n",
       "      <td>10453</td>\n",
       "      <td>2022-11-07</td>\n",
       "      <td>Beverages</td>\n",
       "      <td>2.95</td>\n",
       "      <td>745.762712</td>\n",
       "      <td>Online</td>\n",
       "      <td>Gift Card</td>\n",
       "      <td>Pablo Perez</td>\n",
       "      <td>Madrid</td>\n",
       "      <td>2200.0</td>\n",
       "      <td>11</td>\n",
       "    </tr>\n",
       "    <tr>\n",
       "      <th>3</th>\n",
       "      <td>10454</td>\n",
       "      <td>2022-11-07</td>\n",
       "      <td>Sides &amp; Other</td>\n",
       "      <td>4.99</td>\n",
       "      <td>200.400802</td>\n",
       "      <td>In-store</td>\n",
       "      <td>Gift Card</td>\n",
       "      <td>Joao Silva</td>\n",
       "      <td>Lisbon</td>\n",
       "      <td>1000.0</td>\n",
       "      <td>11</td>\n",
       "    </tr>\n",
       "    <tr>\n",
       "      <th>4</th>\n",
       "      <td>10455</td>\n",
       "      <td>2022-11-08</td>\n",
       "      <td>Burgers</td>\n",
       "      <td>12.99</td>\n",
       "      <td>569.668976</td>\n",
       "      <td>In-store</td>\n",
       "      <td>Credit Card</td>\n",
       "      <td>Walter Muller</td>\n",
       "      <td>Berlin</td>\n",
       "      <td>7400.0</td>\n",
       "      <td>11</td>\n",
       "    </tr>\n",
       "    <tr>\n",
       "      <th>5</th>\n",
       "      <td>10456</td>\n",
       "      <td>2022-11-08</td>\n",
       "      <td>Chicken Sandwiches</td>\n",
       "      <td>9.95</td>\n",
       "      <td>201.005025</td>\n",
       "      <td>In-store</td>\n",
       "      <td>Credit Card</td>\n",
       "      <td>Walter Muller</td>\n",
       "      <td>Berlin</td>\n",
       "      <td>2000.0</td>\n",
       "      <td>11</td>\n",
       "    </tr>\n",
       "    <tr>\n",
       "      <th>...</th>\n",
       "      <td>...</td>\n",
       "      <td>...</td>\n",
       "      <td>...</td>\n",
       "      <td>...</td>\n",
       "      <td>...</td>\n",
       "      <td>...</td>\n",
       "      <td>...</td>\n",
       "      <td>...</td>\n",
       "      <td>...</td>\n",
       "      <td>...</td>\n",
       "      <td>...</td>\n",
       "    </tr>\n",
       "    <tr>\n",
       "      <th>109</th>\n",
       "      <td>10568</td>\n",
       "      <td>2022-11-30</td>\n",
       "      <td>Beverages</td>\n",
       "      <td>2.95</td>\n",
       "      <td>677.966102</td>\n",
       "      <td>Online</td>\n",
       "      <td>Credit Card</td>\n",
       "      <td>Tom Jackson</td>\n",
       "      <td>London</td>\n",
       "      <td>2000.0</td>\n",
       "      <td>11</td>\n",
       "    </tr>\n",
       "    <tr>\n",
       "      <th>110</th>\n",
       "      <td>10569</td>\n",
       "      <td>2022-11-30</td>\n",
       "      <td>Sides &amp; Other</td>\n",
       "      <td>4.99</td>\n",
       "      <td>200.400802</td>\n",
       "      <td>Online</td>\n",
       "      <td>Credit Card</td>\n",
       "      <td>Tom Jackson</td>\n",
       "      <td>London</td>\n",
       "      <td>1000.0</td>\n",
       "      <td>11</td>\n",
       "    </tr>\n",
       "    <tr>\n",
       "      <th>128</th>\n",
       "      <td>10537</td>\n",
       "      <td>2022-11-24</td>\n",
       "      <td>Fries</td>\n",
       "      <td>3.49</td>\n",
       "      <td>630.372493</td>\n",
       "      <td>Drive-thru</td>\n",
       "      <td>Credit Card</td>\n",
       "      <td>Pablo Perez</td>\n",
       "      <td>Madrid</td>\n",
       "      <td>2200.0</td>\n",
       "      <td>11</td>\n",
       "    </tr>\n",
       "    <tr>\n",
       "      <th>129</th>\n",
       "      <td>10538</td>\n",
       "      <td>2022-11-24</td>\n",
       "      <td>Beverages</td>\n",
       "      <td>2.95</td>\n",
       "      <td>745.762712</td>\n",
       "      <td>Drive-thru</td>\n",
       "      <td>Credit Card</td>\n",
       "      <td>Pablo Perez</td>\n",
       "      <td>Madrid</td>\n",
       "      <td>2200.0</td>\n",
       "      <td>11</td>\n",
       "    </tr>\n",
       "    <tr>\n",
       "      <th>130</th>\n",
       "      <td>10539</td>\n",
       "      <td>2022-11-24</td>\n",
       "      <td>Sides &amp; Other</td>\n",
       "      <td>4.99</td>\n",
       "      <td>200.400802</td>\n",
       "      <td>Drive-thru</td>\n",
       "      <td>Credit Card</td>\n",
       "      <td>Pablo Perez</td>\n",
       "      <td>Madrid</td>\n",
       "      <td>1000.0</td>\n",
       "      <td>11</td>\n",
       "    </tr>\n",
       "  </tbody>\n",
       "</table>\n",
       "<p>112 rows × 11 columns</p>\n",
       "</div>"
      ],
      "text/plain": [
       "0    Order ID       Date             Product  Price    Quantity Purchase Type  \\\n",
       "1       10452 2022-11-07               Fries   3.49  573.065903       Online    \n",
       "2       10453 2022-11-07           Beverages   2.95  745.762712       Online    \n",
       "3       10454 2022-11-07       Sides & Other   4.99  200.400802     In-store    \n",
       "4       10455 2022-11-08             Burgers  12.99  569.668976     In-store    \n",
       "5       10456 2022-11-08  Chicken Sandwiches   9.95  201.005025     In-store    \n",
       "..        ...        ...                 ...    ...         ...           ...   \n",
       "109     10568 2022-11-30           Beverages   2.95  677.966102       Online    \n",
       "110     10569 2022-11-30       Sides & Other   4.99  200.400802       Online    \n",
       "128     10537 2022-11-24               Fries   3.49  630.372493   Drive-thru    \n",
       "129     10538 2022-11-24           Beverages   2.95  745.762712   Drive-thru    \n",
       "130     10539 2022-11-24       Sides & Other   4.99  200.400802   Drive-thru    \n",
       "\n",
       "0   Payment Method        Manager    City  Revenue  Month  \n",
       "1        Gift Card    Tom Jackson  London   2000.0     11  \n",
       "2        Gift Card    Pablo Perez  Madrid   2200.0     11  \n",
       "3        Gift Card     Joao Silva  Lisbon   1000.0     11  \n",
       "4      Credit Card  Walter Muller  Berlin   7400.0     11  \n",
       "5      Credit Card  Walter Muller  Berlin   2000.0     11  \n",
       "..             ...            ...     ...      ...    ...  \n",
       "109    Credit Card    Tom Jackson  London   2000.0     11  \n",
       "110    Credit Card    Tom Jackson  London   1000.0     11  \n",
       "128    Credit Card    Pablo Perez  Madrid   2200.0     11  \n",
       "129    Credit Card    Pablo Perez  Madrid   2200.0     11  \n",
       "130    Credit Card    Pablo Perez  Madrid   1000.0     11  \n",
       "\n",
       "[112 rows x 11 columns]"
      ]
     },
     "execution_count": 256,
     "metadata": {},
     "output_type": "execute_result"
    }
   ],
   "source": [
    "m11 =df[df['Month'] == 11]\n",
    "m11"
   ]
  },
  {
   "cell_type": "code",
   "execution_count": 260,
   "id": "7576f492-edde-4097-9a8a-bcb57e5415cf",
   "metadata": {},
   "outputs": [
    {
     "data": {
      "text/plain": [
       "2947.4437013145957"
      ]
     },
     "execution_count": 260,
     "metadata": {},
     "output_type": "execute_result"
    }
   ],
   "source": [
    "m11.Revenue.mean()"
   ]
  },
  {
   "cell_type": "code",
   "execution_count": 262,
   "id": "dba52245-da76-4e40-857c-8965225b2bd5",
   "metadata": {},
   "outputs": [
    {
     "data": {
      "text/plain": [
       "3102.127659574468"
      ]
     },
     "execution_count": 262,
     "metadata": {},
     "output_type": "execute_result"
    }
   ],
   "source": [
    "m12 =df[df['Month'] == 12]\n",
    "m12\n",
    "m12.Revenue.mean()"
   ]
  },
  {
   "cell_type": "markdown",
   "id": "1e6bb73b-e70e-4c14-a031-100d7f0bbd91",
   "metadata": {},
   "source": [
    "#### Average 'Quantity Sold' and 'Average revenue'  for each Product"
   ]
  },
  {
   "cell_type": "code",
   "execution_count": 271,
   "id": "354d73e0-c791-46ae-b900-17c2fad57413",
   "metadata": {},
   "outputs": [
    {
     "data": {
      "text/html": [
       "<div>\n",
       "<style scoped>\n",
       "    .dataframe tbody tr th:only-of-type {\n",
       "        vertical-align: middle;\n",
       "    }\n",
       "\n",
       "    .dataframe tbody tr th {\n",
       "        vertical-align: top;\n",
       "    }\n",
       "\n",
       "    .dataframe thead th {\n",
       "        text-align: right;\n",
       "    }\n",
       "</style>\n",
       "<table border=\"1\" class=\"dataframe\">\n",
       "  <thead>\n",
       "    <tr style=\"text-align: right;\">\n",
       "      <th></th>\n",
       "      <th>Quantity</th>\n",
       "      <th>Revenue</th>\n",
       "    </tr>\n",
       "    <tr>\n",
       "      <th>Product</th>\n",
       "      <th></th>\n",
       "      <th></th>\n",
       "    </tr>\n",
       "  </thead>\n",
       "  <tbody>\n",
       "    <tr>\n",
       "      <th>Beverages</th>\n",
       "      <td>700.103770</td>\n",
       "      <td>2065.306122</td>\n",
       "    </tr>\n",
       "    <tr>\n",
       "      <th>Burgers</th>\n",
       "      <td>558.121632</td>\n",
       "      <td>7250.000000</td>\n",
       "    </tr>\n",
       "    <tr>\n",
       "      <th>Chicken Sandwiches</th>\n",
       "      <td>214.147661</td>\n",
       "      <td>2204.599923</td>\n",
       "    </tr>\n",
       "    <tr>\n",
       "      <th>Fries</th>\n",
       "      <td>628.125176</td>\n",
       "      <td>2464.205854</td>\n",
       "    </tr>\n",
       "    <tr>\n",
       "      <th>Sides &amp; Other</th>\n",
       "      <td>200.400802</td>\n",
       "      <td>1000.000000</td>\n",
       "    </tr>\n",
       "  </tbody>\n",
       "</table>\n",
       "</div>"
      ],
      "text/plain": [
       "0                     Quantity      Revenue\n",
       "Product                                    \n",
       "Beverages           700.103770  2065.306122\n",
       "Burgers             558.121632  7250.000000\n",
       "Chicken Sandwiches  214.147661  2204.599923\n",
       "Fries               628.125176  2464.205854\n",
       "Sides & Other       200.400802  1000.000000"
      ]
     },
     "execution_count": 271,
     "metadata": {},
     "output_type": "execute_result"
    }
   ],
   "source": [
    "df.groupby('Product').agg({'Quantity': 'mean', 'Revenue': 'mean'})"
   ]
  },
  {
   "cell_type": "code",
   "execution_count": null,
   "id": "47efc230-31fb-4767-9ee3-d92aa195edcf",
   "metadata": {},
   "outputs": [],
   "source": []
  }
 ],
 "metadata": {
  "kernelspec": {
   "display_name": "Python [conda env:base] *",
   "language": "python",
   "name": "conda-base-py"
  },
  "language_info": {
   "codemirror_mode": {
    "name": "ipython",
    "version": 3
   },
   "file_extension": ".py",
   "mimetype": "text/x-python",
   "name": "python",
   "nbconvert_exporter": "python",
   "pygments_lexer": "ipython3",
   "version": "3.12.7"
  }
 },
 "nbformat": 4,
 "nbformat_minor": 5
}
